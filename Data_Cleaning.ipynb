{
  "cells": [
    {
      "attachments": {},
      "cell_type": "markdown",
      "metadata": {
        "id": "lrVW8SFt-clU"
      },
      "source": [
        "# Data Cleaning\n",
        "## Simultaneous ECG and PCG recordings transformed into continuous wavelet transform (ECG) and log-mel spectrogram (PCG)\n",
        "\n",
        "There are two datasets which consist of Normal (EPHNOGram: https://physionet.org/content/ephnogram/1.0.0/) and Normal + Abnormal \\\\\n",
        "  (CINC/PhysioNet2016 Challenge: https://physionet.org/content/challenge-2016/1.0.0/#files) heart function sound recordings.\n",
        "  \n",
        "For the PhysioNet data: 'The normal recordings were\n",
        "from healthy subjects and the abnormal ones were from\n",
        "patients typically with heart valve defects and coronary\n",
        "artery disease (CAD). Heart valve defects include mitral\n",
        "valve prolapse, mitral regurgitation, aortic regurgitation,\n",
        "aortic stenosis and valvular surgery'\n",
        "\n",
        "For the EPHNOGram data: 'The current database, recorded by version 2.1 of the developed hardware, \n",
        "has been acquired from 24 healthy adults aged between 23 and 29 (average: 25.4 ± 1.9 years) \n",
        "in 30min stress-test sessions during resting, walking, running and biking conditions, \n",
        "using indoor fitness center equipment. The dataset also contains several 30s sample records acquired during rest conditions.'\n",
        "\n",
        "The PhysioNet data is sampled at 2000Hz for both ECG and PCG, and the EPHNOGRAM data is sampled at 8000hz for both. \n",
        "The EPHNOGRAM data is resampled to 2000Hz for heterogenity."
      ]
    },
    {
      "cell_type": "markdown",
      "metadata": {
        "id": "T9GESfqB1Zdr"
      },
      "source": [
        "# Transformations\n",
        "\n",
        "The LWTNet algorithm identifies object detection in video and audio using integrated attention over time. \n",
        "The ECG signals act as the 'video' after being transformed into spectrograms over windows of the signal \n",
        "(at 30 spectrogram windows/s, to mimic video frame rate), and the PCG audio recordings act as the audio to \n",
        "be synchronised and associated with labelled 'speakers' in the audio; heart sounds S1, S2, systole (S3, murmurs).\n",
        "The PCG audio is transformed into a log-Mel spectrogram for training through the modified LWTNet; ECG-PCG-LWTNet."
      ]
    },
    {
      "cell_type": "code",
      "execution_count": 3,
      "metadata": {
        "colab": {
          "base_uri": "https://localhost:8080/"
        },
        "id": "PTQmcNrQxzMv",
        "outputId": "e4080785-9a87-4f13-ad99-24ed86885f0e"
      },
      "outputs": [
        {
          "ename": "ModuleNotFoundError",
          "evalue": "No module named 'wfdb'",
          "output_type": "error",
          "traceback": [
            "\u001b[1;31m---------------------------------------------------------------------------\u001b[0m",
            "\u001b[1;31mModuleNotFoundError\u001b[0m                       Traceback (most recent call last)",
            "\u001b[1;32m~\\AppData\\Local\\Temp/ipykernel_15668/471309745.py\u001b[0m in \u001b[0;36m<module>\u001b[1;34m\u001b[0m\n\u001b[1;32m----> 1\u001b[1;33m \u001b[1;32mimport\u001b[0m \u001b[0mwfdb\u001b[0m\u001b[1;33m\u001b[0m\u001b[1;33m\u001b[0m\u001b[0m\n\u001b[0m\u001b[0;32m      2\u001b[0m \u001b[1;32mfrom\u001b[0m \u001b[0mwfdb\u001b[0m \u001b[1;32mimport\u001b[0m \u001b[0mprocessing\u001b[0m\u001b[1;33m\u001b[0m\u001b[1;33m\u001b[0m\u001b[0m\n\u001b[0;32m      3\u001b[0m \u001b[1;32mimport\u001b[0m \u001b[0mtqdm\u001b[0m\u001b[1;33m\u001b[0m\u001b[1;33m\u001b[0m\u001b[0m\n\u001b[0;32m      4\u001b[0m \u001b[1;32mimport\u001b[0m \u001b[0mmatplotlib\u001b[0m\u001b[1;33m.\u001b[0m\u001b[0mpyplot\u001b[0m \u001b[1;32mas\u001b[0m \u001b[0mplt\u001b[0m\u001b[1;33m\u001b[0m\u001b[1;33m\u001b[0m\u001b[0m\n\u001b[0;32m      5\u001b[0m \u001b[1;32mfrom\u001b[0m \u001b[0mvisualise_data\u001b[0m \u001b[1;32mimport\u001b[0m \u001b[0mpeaks_hr\u001b[0m\u001b[1;33m\u001b[0m\u001b[1;33m\u001b[0m\u001b[0m\n",
            "\u001b[1;31mModuleNotFoundError\u001b[0m: No module named 'wfdb'"
          ]
        }
      ],
      "source": [
        "import wfdb\n",
        "from wfdb import processing\n",
        "import tqdm\n",
        "import matplotlib.pyplot as plt\n",
        "from visualise_data import peaks_hr\n",
        "import os\n",
        "import pandas as pd\n",
        "from helpers import clip_len, sample_rate_ecg, sample_rate_pcg, inputpath_physionet, inputpath_ephnogram_target, inputpath_ephnogram_data, outputpath, useDrive, get_filtered_df, create_new_folder"
      ]
    },
    {
      "cell_type": "code",
      "execution_count": 2,
      "metadata": {
        "id": "DwKSLve11kwa"
      },
      "outputs": [
        {
          "ename": "NameError",
          "evalue": "name 'clip_len' is not defined",
          "output_type": "error",
          "traceback": [
            "\u001b[1;31m---------------------------------------------------------------------------\u001b[0m",
            "\u001b[1;31mNameError\u001b[0m                                 Traceback (most recent call last)",
            "\u001b[1;32m~\\AppData\\Local\\Temp/ipykernel_15668/4054570827.py\u001b[0m in \u001b[0;36m<module>\u001b[1;34m\u001b[0m\n\u001b[0;32m      1\u001b[0m \u001b[1;34m\"\"\"# Cleaning PhysioNet 2016 Challenge Data\"\"\"\u001b[0m\u001b[1;33m\u001b[0m\u001b[1;33m\u001b[0m\u001b[0m\n\u001b[1;32m----> 2\u001b[1;33m \u001b[1;32mdef\u001b[0m \u001b[0mclean_physionet_data\u001b[0m\u001b[1;33m(\u001b[0m\u001b[0minputpath_training\u001b[0m\u001b[1;33m,\u001b[0m \u001b[0moutputpath_\u001b[0m\u001b[1;33m,\u001b[0m \u001b[0msample_clip_len\u001b[0m\u001b[1;33m=\u001b[0m\u001b[0mclip_len\u001b[0m\u001b[1;33m,\u001b[0m \u001b[0mecg_sample_rate\u001b[0m\u001b[1;33m=\u001b[0m\u001b[0msample_rate_ecg\u001b[0m\u001b[1;33m,\u001b[0m \u001b[0mpcg_sample_rate\u001b[0m\u001b[1;33m=\u001b[0m\u001b[0msample_rate_pcg\u001b[0m\u001b[1;33m,\u001b[0m \u001b[0mcreate_spectrograms_ecg\u001b[0m\u001b[1;33m=\u001b[0m\u001b[1;32mTrue\u001b[0m\u001b[1;33m,\u001b[0m \u001b[0mcreate_spectrogram_pcg\u001b[0m\u001b[1;33m=\u001b[0m\u001b[1;32mTrue\u001b[0m\u001b[1;33m)\u001b[0m\u001b[1;33m:\u001b[0m\u001b[1;33m\u001b[0m\u001b[1;33m\u001b[0m\u001b[0m\n\u001b[0m\u001b[0;32m      3\u001b[0m   \u001b[0mprint\u001b[0m\u001b[1;33m(\u001b[0m\u001b[1;34m\"* Cleaning PhysioNet Data - Creating References [1/4] *\"\u001b[0m\u001b[1;33m)\u001b[0m\u001b[1;33m\u001b[0m\u001b[1;33m\u001b[0m\u001b[0m\n\u001b[0;32m      4\u001b[0m   \u001b[1;32mif\u001b[0m \u001b[0mos\u001b[0m\u001b[1;33m.\u001b[0m\u001b[0mpath\u001b[0m\u001b[1;33m.\u001b[0m\u001b[0mexists\u001b[0m\u001b[1;33m(\u001b[0m\u001b[0moutputpath_\u001b[0m\u001b[1;33m+\u001b[0m\u001b[1;34m'physionet'\u001b[0m\u001b[1;33m)\u001b[0m \u001b[1;32mand\u001b[0m \u001b[0mlen\u001b[0m\u001b[1;33m(\u001b[0m\u001b[0mos\u001b[0m\u001b[1;33m.\u001b[0m\u001b[0mlistdir\u001b[0m\u001b[1;33m(\u001b[0m\u001b[0moutputpath_\u001b[0m\u001b[1;33m+\u001b[0m\u001b[1;34m'physionet'\u001b[0m\u001b[1;33m)\u001b[0m\u001b[1;33m)\u001b[0m \u001b[1;33m!=\u001b[0m \u001b[1;36m0\u001b[0m\u001b[1;33m:\u001b[0m\u001b[1;33m\u001b[0m\u001b[1;33m\u001b[0m\u001b[0m\n\u001b[0;32m      5\u001b[0m         \u001b[0mprint\u001b[0m\u001b[1;33m(\u001b[0m\u001b[1;34m\"! Warning: folder 'physionet' already exists - assuming PhysioNet data is clean !\"\u001b[0m\u001b[1;33m)\u001b[0m\u001b[1;33m\u001b[0m\u001b[1;33m\u001b[0m\u001b[0m\n",
            "\u001b[1;31mNameError\u001b[0m: name 'clip_len' is not defined"
          ]
        }
      ],
      "source": [
        "\"\"\"# Cleaning PhysioNet 2016 Challenge Data\"\"\"\n",
        "def clean_physionet_data(inputpath_training, outputpath_, sample_clip_len=clip_len, ecg_sample_rate=sample_rate_ecg, pcg_sample_rate=sample_rate_pcg, create_spectrograms_ecg=True, create_spectrogram_pcg=True):\n",
        "  print(\"* Cleaning PhysioNet Data - Creating References [1/4] *\")\n",
        "  if os.path.exists(outputpath_+'physionet') and len(os.listdir(outputpath_+'physionet')) != 0:\n",
        "        print(\"! Warning: folder 'physionet' already exists - assuming PhysioNet data is clean !\")\n",
        "        return\n",
        "  else:\n",
        "    create_new_folder(outputpath_+'physionet')\n",
        "  if not os.path.isfile(inputpath_training+'REFERENCE.csv'):\n",
        "      raise ValueError(\"Error: file 'REFERENCE.csv' does not exist - aborting\")\n",
        "  ref_csv = pd.read_csv(inputpath_training+'REFERENCE.csv', names=['filename', 'label'])\n",
        "  data = pd.DataFrame(columns=['label', 'qrs_inds'])\n",
        "  \n",
        "  for index, ref in tqdm.tqdm(ref_csv.iterrows()):\n",
        "    # 1: Abnormal, -1: Normal\n",
        "    label = ref['label']\n",
        "    filename = ref['filename']\n",
        "    record = wfdb.rdrecord(inputpath_training+filename, channels=[0]) #sampfrom=0, sampto=10000\n",
        "    qrs_inds = processing.qrs.gqrs_detect(sig=record.p_signal[:,0], fs=record.fs)\n",
        "    print(f\"rr: {len(record.p_signal)}\")\n",
        "    # Plot results\n",
        "    peaks_hr(sig=record.p_signal, peak_inds=qrs_inds, fs=record.fs,\n",
        "         title=\"GQRS peak detection on record 100\")\n",
        "    row = pd.Series([label, qrs_inds])\n",
        "    data.append(row, ignore_index=True)\n",
        "  #receive_plays = get_filtered_df(csv, 'event', 'punt_received')\n",
        "  #play_nos = np.unique(receive_plays['playId'])\n",
        "  #for id in play_nos:\n",
        "  #    df = get_filtered_df(csv, 'playId', id)\n",
        "  #    games = np.unique(df['gameId'])\n",
        "  #    create_new_folder(outputpath_+foldername)\n",
        "  #players = pd.read_csv(inputpath_+\"players.csv\")\n",
        "  #players.columns = players.columns.str.replace(' ', '')\n",
        "  #players\n",
        "  #\"\"\"Converting all heights to inches\"\"\"\n",
        "  #if type(players['height']) is not String:\n",
        "  #  print(\"! Warning: 'height' attribute is not String - assuming 'players' is clean !\")\n",
        "  #  return players\n",
        "  #check = players['height'].str.split('-', expand=True)\n",
        "  #check.columns = ['feet', 'inches']\n",
        "  #check.loc[(check['inches'].notnull()), 'feet'] = check[check['inches'].notnull()]['feet'].astype(np.int16) * 12 + check[check['inches'].notnull()]['inches'].astype(np.int16)\n",
        "  #players['height'] = check['feet']\n",
        "  #players['height'] = players['height'].astype(np.float32)\n",
        "  #\"\"\"Making all dates the same format\"\"\"\n",
        "  ##TODO get birthdate from missing ones\n",
        " # for idx, row in players.iterrows():\n",
        "  #  if type(row['birthDate']) is String and \"/\" in row['birthDate']: \n",
        "  #        split = row[\"birthDate\"].split(\"/\")\n",
        "  #        players.loc[idx,\"birthDate\"] = split[2].replace(\" \",\"\")+\"-\"+split[0]+\"-\"+split[1]\n",
        "  #players.to_csv(outputpath_+\"players.csv\",index=False)\n",
        "  #cleaned_players = pd.read_csv(outputpath_+\"players.csv\")\n",
        "  #return cleaned_players\n",
        "\n",
        "print(\"*** Cleaning Data [0/4] ***\")\n",
        "print(\"** Cleaning PhysioNet Data **\")\n",
        "\n",
        "# Plot results\n",
        "#peaks_hr(sig=record.p_signal, peak_inds=qrs_inds, fs=record.fs,\n",
        "#         title=\"GQRS peak detection on record 100\")\n",
        "    \n",
        "# Correct the peaks shifting them to local maxima\n",
        "#min_bpm = 20\n",
        "#max_bpm = 230\n",
        "#min_gap = record.fs * 60 / min_bpm\n",
        "# Use the maximum possible bpm as the search radius\n",
        "#search_radius = int(record.fs * 60 / max_bpm)\n",
        "#corrected_peak_inds = processing.peaks.correct_peaks(record.p_signal[:,0], \n",
        "#                                                     peak_inds=qrs_inds,\n",
        "#                                                     search_radius=search_radius, \n",
        "#                                                     smooth_window_size=150)\n",
        "\n",
        "# Display results\n",
        "#print('Corrected GQRS detected peak indices:', sorted(corrected_peak_inds))\n",
        "#peaks_hr(sig=record.p_signal, peak_inds=sorted(corrected_peak_inds), fs=record.fs,\n",
        "#         title=\"Corrected GQRS peak detection on sampledata/100\")\n",
        "clean_physionet_data(inputpath_physionet, outputpath)"
      ]
    },
    {
      "cell_type": "markdown",
      "metadata": {
        "id": "1FqMk6B14_hs"
      },
      "source": [
        "Converting all heights to inches"
      ]
    },
    {
      "cell_type": "code",
      "execution_count": null,
      "metadata": {
        "id": "Uu9CKKGB2A35"
      },
      "outputs": [],
      "source": [
        "check = players['height'].str.split('-', expand=True)\n",
        "check.columns = ['feet', 'inches']\n",
        "check.loc[(check['inches'].notnull()), 'feet'] = check[check['inches'].notnull()]['feet'].astype(np.int16) * 12 + check[check['inches'].notnull()]['inches'].astype(np.int16)\n",
        "players['height'] = check['feet']\n",
        "players['height'] = players['height'].astype(np.float32)\n",
        "players"
      ]
    },
    {
      "cell_type": "markdown",
      "metadata": {
        "id": "qrgz1URpLW0f"
      },
      "source": [
        "Making all dates the same format"
      ]
    },
    {
      "cell_type": "code",
      "execution_count": null,
      "metadata": {
        "id": "l-NDVnuuHHjC"
      },
      "outputs": [],
      "source": [
        "for idx, row in players.iterrows():\n",
        "  if \"/\" in row['birthDate']: \n",
        "        split = row[\"birthDate\"].split(\"/\")\n",
        "        players.loc[idx,\"birthDate\"] = split[2].replace(\" \",\"\")+\"-\"+split[0]+\"-\"+split[1]\n",
        "players"
      ]
    },
    {
      "cell_type": "code",
      "execution_count": null,
      "metadata": {
        "id": "ZajNGrLcIu0A"
      },
      "outputs": [],
      "source": [
        "players.to_csv(outputpath+\"cleaned_players.csv\", index=False)\n",
        "cleaned_players = pd.read_csv(outputpath+\"cleaned_players.csv\")\n",
        "cleaned_players"
      ]
    },
    {
      "cell_type": "markdown",
      "metadata": {
        "id": "PHVVzyBN0JPN"
      },
      "source": [
        "# Plays"
      ]
    },
    {
      "cell_type": "code",
      "execution_count": null,
      "metadata": {
        "id": "5oo17x-eUm0I"
      },
      "outputs": [],
      "source": [
        "plays = pd.read_csv(\"plays.csv\")\n",
        "plays.head()"
      ]
    },
    {
      "cell_type": "markdown",
      "metadata": {
        "id": "ESVYioYb-haU"
      },
      "source": [
        "There are four special plays detailed. They should be given their own csvs."
      ]
    },
    {
      "cell_type": "code",
      "execution_count": null,
      "metadata": {
        "id": "zgOLYRIeY5dO"
      },
      "outputs": [],
      "source": [
        "plays['specialTeamsPlayType'].unique()"
      ]
    },
    {
      "cell_type": "code",
      "execution_count": null,
      "metadata": {
        "id": "Fw74c1LkZb1V"
      },
      "outputs": [],
      "source": [
        "plays[plays['specialTeamsPlayType'] == \"Kickoff\"][\"specialTeamsResult\"].unique()"
      ]
    },
    {
      "cell_type": "markdown",
      "metadata": {
        "id": "8Bgz9hUtjPND"
      },
      "source": [
        "- Touchback - Kickoff resulted in ball becoming dead in defending team's endzone, so defending team gain possesion at 25 or 20 yard line. Either has to land there and stop, or a player catches and kneels to end play.\n",
        "- Return - Kickoff resulted in ball being received by defending team and them running the ball up the field. (Is caught or becomes dead not in end zone?)\n",
        "- Muffed - Receiving team don't gain possession of the ball properly, and can only start at where the ball was downed?\n",
        "- Kickoff Team Recovery - kickoff team gain possesion of the ball after it crosses the receiving team's restraining line (35 yards) or a member of the receiving team possess the ball first.\n",
        "- Out of Bounds - out of bounds\n",
        "- Fair Catch - Receiver signals that they want a fair catch, meaning they can catch the ball without interference. Then the ball becomes dead at that spot and the receiving team cannot advance it.\n",
        "- Downed - Ball brought to the ground??"
      ]
    },
    {
      "cell_type": "code",
      "execution_count": null,
      "metadata": {
        "id": "OH_NIQ-panWb"
      },
      "outputs": [],
      "source": [
        "plays[plays['specialTeamsPlayType'] == \"Punt\"][\"specialTeamsResult\"].unique()"
      ]
    },
    {
      "cell_type": "markdown",
      "metadata": {
        "id": "jEYON5yz2pvR"
      },
      "source": [
        "- Non-Special Teams Result - Punt is passed instead."
      ]
    },
    {
      "cell_type": "code",
      "execution_count": null,
      "metadata": {
        "id": "5LQwnom0aqNq"
      },
      "outputs": [],
      "source": [
        "plays[plays['specialTeamsPlayType'] == \"Field Goal\"][\"specialTeamsResult\"].unique()"
      ]
    },
    {
      "cell_type": "markdown",
      "metadata": {
        "id": "uRAhmLEi4e2V"
      },
      "source": [
        "- Kick Attempt Good - goal scored\n",
        "- Kick Attempt No Good - goal missed\n",
        "- Blocked Kick Attempt - kick blocked by an opponent\n",
        "- Non-Special Teams Result - kick set up but passed instead?"
      ]
    },
    {
      "cell_type": "code",
      "execution_count": null,
      "metadata": {
        "id": "XvHZRkggauc7"
      },
      "outputs": [],
      "source": [
        "plays[plays['specialTeamsPlayType'] == \"Extra Point\"][\"specialTeamsResult\"].unique()"
      ]
    },
    {
      "cell_type": "markdown",
      "metadata": {
        "id": "l6L5w2Jq6v_h"
      },
      "source": [
        "- Non-Special Teams Result - Can choose to attempt another touchdown after first touchdown instead of conversion kick, so no one attempts the kick, kickerId is null. Mostly fails however."
      ]
    },
    {
      "cell_type": "markdown",
      "metadata": {
        "id": "k0xs_F0f0Nl0"
      },
      "source": [
        "## Kickoff"
      ]
    },
    {
      "cell_type": "code",
      "execution_count": null,
      "metadata": {
        "id": "SdjwSFXleGMF"
      },
      "outputs": [],
      "source": [
        "kickoff = plays[plays['specialTeamsPlayType'] == \"Kickoff\"]\n",
        "kickoff.columns"
      ]
    },
    {
      "cell_type": "markdown",
      "metadata": {
        "id": "i7AhkClFfrgk"
      },
      "source": [
        "The percentage of NA values in each column:"
      ]
    },
    {
      "cell_type": "code",
      "execution_count": null,
      "metadata": {
        "id": "tUGtYt8BednF"
      },
      "outputs": [],
      "source": [
        "for column in kickoff.columns:\n",
        "  print(column,(kickoff[column].isnull().sum()/len(kickoff[column])*100))"
      ]
    },
    {
      "cell_type": "markdown",
      "metadata": {
        "id": "O9M_HwW-fvPx"
      },
      "source": [
        "- Penalties have high percentages because they are rare, but still valid data\n",
        "- Kickoffs have no kick blocker so kickBlockerId is irrelevant here\n",
        "- passResult: Scrimmage outcome of the play if specialTeamsPlayResult is \"Non-Special Teams Result\", so irrelevant here\n",
        "- looks like yardlineNumber should all be 35 because that's where a kickoff occurs, but some maybe different because of pentalies?"
      ]
    },
    {
      "cell_type": "code",
      "execution_count": null,
      "metadata": {
        "id": "GN_V1Wp6gTtJ"
      },
      "outputs": [],
      "source": [
        "kickoff = kickoff.drop(columns=[\"kickBlockerId\",\"passResult\",\"specialTeamsPlayType\"])"
      ]
    },
    {
      "cell_type": "code",
      "execution_count": null,
      "metadata": {
        "id": "N0rRr6H9haqO"
      },
      "outputs": [],
      "source": [
        "kickoff.to_csv(outputpath+\"kickoff.csv\",index=False)"
      ]
    },
    {
      "cell_type": "markdown",
      "metadata": {
        "id": "klFeqkjL-Pzl"
      },
      "source": [
        "specialTeamsPlayType is removed because the csv only has data about one special type, so would be a column with all the same values"
      ]
    },
    {
      "cell_type": "markdown",
      "metadata": {
        "id": "k4kywKyd0QN_"
      },
      "source": [
        "## Punt"
      ]
    },
    {
      "cell_type": "code",
      "execution_count": null,
      "metadata": {
        "id": "X27XD9Pr0RUL"
      },
      "outputs": [],
      "source": [
        "punt = plays[plays['specialTeamsPlayType'] == \"Punt\"]\n",
        "punt"
      ]
    },
    {
      "cell_type": "code",
      "execution_count": null,
      "metadata": {
        "id": "IexJ-F7R0ZKc"
      },
      "outputs": [],
      "source": [
        "for column in punt.columns:\n",
        "  print(column,(punt[column].isnull().sum()/len(punt[column])*100))"
      ]
    },
    {
      "cell_type": "markdown",
      "metadata": {
        "id": "uWV5EXV-1Bni"
      },
      "source": [
        "- Some kickerIds are null because the punt is not kicked (??), it is passed instead. Indicated by having the specialTeamsResult set to Non-Special Teams Result, and then the passResult shows the result of the pass.\n",
        "- kickBlockerId is mostly null because it is rare to block a punt. When not null, specialTeamsResult has Blocked Punt\n"
      ]
    },
    {
      "cell_type": "code",
      "execution_count": null,
      "metadata": {
        "id": "LmxLJjUB2OnZ"
      },
      "outputs": [],
      "source": [
        "punt = punt.drop(columns=[\"specialTeamsPlayType\"])"
      ]
    },
    {
      "cell_type": "code",
      "execution_count": null,
      "metadata": {
        "id": "l3JulZfL2TGo"
      },
      "outputs": [],
      "source": [
        "punt.to_csv(outputpath+\"punt.csv\",index=False)"
      ]
    },
    {
      "cell_type": "markdown",
      "metadata": {
        "id": "OWqKG1eG2l0B"
      },
      "source": [
        "## Field Goal"
      ]
    },
    {
      "cell_type": "code",
      "execution_count": null,
      "metadata": {
        "id": "9epbfRYV2zGm"
      },
      "outputs": [],
      "source": [
        "fieldGoal = plays[plays['specialTeamsPlayType'] == \"Field Goal\"]\n",
        "fieldGoal"
      ]
    },
    {
      "cell_type": "code",
      "execution_count": null,
      "metadata": {
        "id": "3i9qFwJ929gg"
      },
      "outputs": [],
      "source": [
        "for column in fieldGoal.columns:\n",
        "  print(column,(fieldGoal[column].isnull().sum()/len(fieldGoal[column])*100))"
      ]
    },
    {
      "cell_type": "markdown",
      "metadata": {
        "id": "CeUkf6125LKb"
      },
      "source": [
        "- kickReturnYardage is all null because the receiving cannot (??) advance the ball after a field goal ??\n",
        "- playResult is mostly 0 because most attempts score goals, so kicking team essentially gains no yards because play is reset. Will be negative if goal is missed so receiving team get the ball at their 8 yard mark (??). For blocked kicks, it's anyone's ball after so kicking team may or may not gain yards afterwards.\n",
        "- returnerId is mostly null because it's rare to return after a field goal??"
      ]
    },
    {
      "cell_type": "code",
      "execution_count": null,
      "metadata": {
        "id": "xM8GG-Ua6F9J"
      },
      "outputs": [],
      "source": [
        "fieldGoal = fieldGoal.drop(columns=[\"specialTeamsPlayType\",\"kickReturnYardage\"])"
      ]
    },
    {
      "cell_type": "code",
      "execution_count": null,
      "metadata": {
        "id": "gFHrNSa66LkZ"
      },
      "outputs": [],
      "source": [
        "fieldGoal.to_csv(outputpath+\"fieldGoal.csv\",index=False)"
      ]
    },
    {
      "cell_type": "markdown",
      "metadata": {
        "id": "kYqm18hr6Ooz"
      },
      "source": [
        "# Extra Point"
      ]
    },
    {
      "cell_type": "code",
      "execution_count": null,
      "metadata": {
        "id": "35hMcHlN6VcK"
      },
      "outputs": [],
      "source": [
        "extraPoint = plays[plays['specialTeamsPlayType'] == \"Extra Point\"]\n",
        "extraPoint"
      ]
    },
    {
      "cell_type": "code",
      "execution_count": null,
      "metadata": {
        "id": "PgSq0F4f7tLe"
      },
      "outputs": [],
      "source": [
        "for column in extraPoint.columns:\n",
        "  print(column,(extraPoint[column].isnull().sum()/len(extraPoint[column])*100))"
      ]
    },
    {
      "cell_type": "markdown",
      "metadata": {
        "id": "yaOC_VRf82BW"
      },
      "source": [
        "- returnerId all null because no one returns\n",
        "- kickLength all null because kicks happen at same place\n",
        "- kickReturnYardage all null because you can't advance after an extra point attempt"
      ]
    },
    {
      "cell_type": "code",
      "execution_count": null,
      "metadata": {
        "id": "n2J4HmHg9scD"
      },
      "outputs": [],
      "source": [
        "extraPoint = extraPoint.drop(columns=[\"specialTeamsPlayType\",\"kickReturnYardage\",\"returnerId\",\"kickLength\"])\n",
        "extraPoint.to_csv(outputpath+\"extraPoint.csv\",index=False)"
      ]
    }
  ],
  "metadata": {
    "colab": {
      "collapsed_sections": [
        "k0xs_F0f0Nl0",
        "k4kywKyd0QN_",
        "OWqKG1eG2l0B"
      ],
      "name": "NFL_Data_Cleaning.ipynb",
      "provenance": []
    },
    "interpreter": {
      "hash": "f8bbe703e4409461e5c1796f0c401e26e62f32801f1a5b19455b89c31c613fbe"
    },
    "kernelspec": {
      "display_name": "Python 3.9.7 64-bit (conda)",
      "name": "python3"
    },
    "language_info": {
      "codemirror_mode": {
        "name": "ipython",
        "version": 3
      },
      "file_extension": ".py",
      "mimetype": "text/x-python",
      "name": "python",
      "nbconvert_exporter": "python",
      "pygments_lexer": "ipython3",
      "version": "3.9.7"
    }
  },
  "nbformat": 4,
  "nbformat_minor": 2
}
